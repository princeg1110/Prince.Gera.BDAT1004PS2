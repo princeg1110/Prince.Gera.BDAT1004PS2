{
  "metadata": {
    "language_info": {
      "codemirror_mode": {
        "name": "python",
        "version": 3
      },
      "file_extension": ".py",
      "mimetype": "text/x-python",
      "name": "python",
      "nbconvert_exporter": "python",
      "pygments_lexer": "ipython3",
      "version": "3.8"
    },
    "kernelspec": {
      "name": "python",
      "display_name": "Python (Pyodide)",
      "language": "python"
    }
  },
  "nbformat_minor": 4,
  "nbformat": 4,
  "cells": [
    {
      "cell_type": "markdown",
      "source": "Question 1:\nConsider the following Python module:\na = 0 def b(): global a a = c(a) def c(a): return a + 2\n\nAfter importing the module into the interpreter, you execute: b() b() b() a ? What value is displayed when the last expression (a) is evaluated? Explain your answer by indicating what happens in every executed statement.",
      "metadata": {}
    },
    {
      "cell_type": "code",
      "source": "a = 0 \ndef b():\n global a\n a = c(a) #passing value and store return value to global variable a\ndef c(a):\n return a + 2 \nb() #a=0 -> a=c(0)=2=0+2\nb() #a=2 -> a=c(2)=4=2+2\nb() #a=4 -> a=c(4)=6=4+2\na",
      "metadata": {
        "trusted": true
      },
      "execution_count": 4,
      "outputs": [
        {
          "execution_count": 4,
          "output_type": "execute_result",
          "data": {
            "text/plain": "6"
          },
          "metadata": {}
        }
      ]
    },
    {
      "cell_type": "markdown",
      "source": "Question 2:\nFunction fileLength(), given to you, takes the name of a file as input and returns\nthe length of the file:\n>>> fileLength('midterm.py')\n284\n>>> fileLength('idterm.py')\nTraceback (most recent call last):\nFile \"<pyshell#34>\", line 1, in <module>\n fileLength('idterm.py')\nFile \"/Users/me/midterm.py\", line 3, in fileLength\n infile = open(filename)\nFileNotFoundError: [Errno 2] No such file or directory:\n'idterm.py'\nAs shown above, if the file cannot be found by the interpreter or if it cannot be read\nas a text file, an exception will be raised. Modify function fileLength() so that a\nfriendly message is printed instead:\n>>> fileLength('midterm.py')\n358\n>>> fileLength('idterm.py')\nFile idterm.py not found.",
      "metadata": {}
    },
    {
      "cell_type": "code",
      "source": "def fileLength(Filename):\n    try:\n        contents = open(Filename) # Open file\n        data=contents.read() # read File contents\n        length = len(data) #find the length of data using len() \n        print(f\"Length of {filename1}:\",length) #print Len\n    except FileNotFoundError:\n        print(f\"File {filename} not found.\") #Exception Message when file is not found\n\nfilename1 =\"midterm.py\" #file present\nfilename2 =\"idterm.py\" #name is not correct\n\nfileLength(filename1)\nfileLength(filename2)",
      "metadata": {},
      "execution_count": null,
      "outputs": []
    },
    {
      "cell_type": "markdown",
      "source": "Question 3:\nWrite a class named Marsupial that can be used as shown below:\n>>> m = Marsupial()\n>>> m.put_in_pouch('doll')\n>>> m.put_in_pouch('firetruck')\n>>> m.put_in_pouch('kitten')\n>>> m.pouch_contents()\n['doll', 'firetruck', 'kitten']\nNow write a class named Kangaroo as a subclass of Marsupial that inherits all the\nattributes of Marsupial and also:\na. extends the Marsupial __init__ constructor to take, as input, the\ncoordinates x and y of the Kangaroo object,\nb. supports method jump that takes number values dx and dy as input and\nmoves the kangaroo by dx units along the x-axis and by dy units along the yaxis, and\nc. overloads the __str__ operator so it behaves as shown below.\n>>> k = Kangaroo(0,0)\n>>> print(k)\nI am a Kangaroo located at coordinates (0,0)\n>>> k.put_in_pouch('doll')\n>>> k.put_in_pouch('firetruck')\n>>> k.put_in_pouch('kitten')\n>>> k.pouch_contents()\n['doll', 'firetruck', 'kitten']\n>>> k.jump(1,0)\n>>> k.jump(1,0)\n>>> k.jump(1,0)\n>>> print(k)\nI am a Kangaroo located at coordinates (3,0)",
      "metadata": {}
    },
    {
      "cell_type": "code",
      "source": "class Marsupial:\n    def __init__(self):\n        self.pouch = []\n \n    def put_in_pouch(self, item):\n        self.pouch.append(item)\n\n    def pouch_contents(self):\n        return self.pouch\n\nclass Kangaroo(Marsupial):\n    def __init__(self, x, y):\n        super().__init__()\n        self.x = x\n        self.y = y\n\n    def jump(self, dx, dy):\n        self.x += dx\n        self.y += dy\n\n    def __str__(self):\n        return f\"I am a Kangaroo located at coordinates ({self.x},{self.y})\"\n\nm = Marsupial()\nm.put_in_pouch('doll')\nm.put_in_pouch('firetruck')\nm.put_in_pouch('kitten')\nprint(m.pouch_contents())\n\nk = Kangaroo(0, 0)\nprint(k)\n\nk.put_in_pouch('doll')\nk.put_in_pouch('firetruck')\nk.put_in_pouch('kitten')\nprint(k.pouch_contents())\n\nk.jump(1, 0)\nk.jump(1, 0)\nk.jump(1, 0)\nprint(k)",
      "metadata": {
        "trusted": true
      },
      "execution_count": 11,
      "outputs": [
        {
          "name": "stdout",
          "text": "['doll', 'firetruck', 'kitten']\nI am a Kangaroo located at coordinates (0,0)\n['doll', 'firetruck', 'kitten']\nI am a Kangaroo located at coordinates (3,0)\n",
          "output_type": "stream"
        }
      ]
    },
    {
      "cell_type": "markdown",
      "source": "Question 4:\nWrite function collatz() that takes a positive integer x as input and prints the\nCollatz sequence starting at x. A Collatz sequence is obtained by repeatedly applying\nthis rule to the previous number x in the sequence:\nx = {\n𝑥/2 𝑖𝑓 𝑥 𝑖𝑠 𝑒𝑣𝑒𝑛\n3𝑥 + 1 𝑖𝑓 𝑥 𝑖𝑠 𝑜𝑑𝑑\nYour function should stop when the sequence gets to number 1. Your\nimplementation must be recursive, without any loops.\n>>> collatz(1)\n1\n>>> collatz(10)\n10\n5\n16\n8\n4\n2\n1",
      "metadata": {}
    },
    {
      "cell_type": "code",
      "source": "def collatz(x):\n    print(x)\n    if x == 1:\n        return\n    if x % 2 == 0:\n        collatz(x // 2) \n    else:\n        collatz(3 * x + 1)\n\n\ncollatz(1)\nprint()\ncollatz(10)",
      "metadata": {
        "trusted": true
      },
      "execution_count": 13,
      "outputs": [
        {
          "name": "stdout",
          "text": "1\n\n10\n5\n16\n8\n4\n2\n1\n",
          "output_type": "stream"
        }
      ]
    },
    {
      "cell_type": "markdown",
      "source": "Question 5:\nWrite a recursive method binary() that takes a non-negative\ninteger n and prints the binary representation of integer n.\n>>> binary(0)\n0\n>>> binary(1)\n1\n>>> binary(3)\n11\n>>> binary(9)\n1001",
      "metadata": {}
    },
    {
      "cell_type": "code",
      "source": "def binary(n):\n    if n > 1: #condition checking if n is > 1\n        binary(n // 2) #recusion\n    print(n % 2, end='') #end='' for printing output on the same line\n\nbinary(0)\nprint()  # Print a newline to separate results\nbinary(1)\nprint() # Print a newline to separate results\nbinary(3) \nprint() # Print a newline to separate results\nbinary(9)",
      "metadata": {
        "trusted": true
      },
      "execution_count": 14,
      "outputs": [
        {
          "name": "stdout",
          "text": "0\n1\n11\n1001",
          "output_type": "stream"
        }
      ]
    },
    {
      "cell_type": "markdown",
      "source": "Question 6:\nImplement a class named HeadingParser that can be used to parse an HTML\ndocument, and retrieve and print all the headings in the document. You should\nimplement your class as a subclass of HTMLParser, defined in Standard Library\nmodule html.parser. When fed a string containing HTML code, your class should\nprint the headings, one per line and in the order in which they appear in the\ndocument. Each heading should be indented as follows: an h1 heading should have indentation 0, and h2 heading should have indentation 1, etc. Test your\nimplementation using w3c.html.\n>>> infile = open('w3c.html')\n>>> content = infile.read()\n>>> infile.close()\n>>> hp = HeadingParser()\n>>> hp.feed(content)\nW3C Mission\nPrinciples\n",
      "metadata": {}
    },
    {
      "cell_type": "code",
      "source": "from html.parser import HTMLParser\n\nclass HeadingParser(HTMLParser):\n    def __init__(self):\n        super().__init__()\n        self.in_heading = False\n        self.heading_level = 0\n        self.headings = []\n\n    def handle_starttag(self, tag, attrs):\n        if tag.startswith('h') and tag[1:].isdigit():\n            self.in_heading = True \n            self.heading_level = int(tag[1:])\n\n    def handle_data(self, data):\n        if self.in_heading:\n            indentation = \" \" * (self.heading_level - 1)\n            heading_text = f\"{indentation}{data.strip()}\"\n            self.headings.append(heading_text)\n\n    def handle_endtag(self, tag):\n        if self.in_heading:\n            self.in_heading = False\n\n    def print_headings(self):\n        for heading in self.headings: \n            print(heading)\n\n\nif __name__ == '__main__':\n    with open('w3c.html', 'r') as infile: \n        content = infile.read()\n\n    hp = HeadingParser()\n    hp.feed(content)\n    hp.print_headings()",
      "metadata": {
        "trusted": true
      },
      "execution_count": 44,
      "outputs": [
        {
          "name": "stdout",
          "text": "W3C Mission\n Principles\n",
          "output_type": "stream"
        }
      ]
    },
    {
      "cell_type": "markdown",
      "source": "Question 7:\nImplement recursive function webdir() that takes as input: a URL (as a string) and\nnon-negative integers depth and indent. Your function should visit every web\npage reachable from the starting URL web page in depth clicks or less, and print\neach web page's URL. As shown below, indentation, specified by indent, should\nbe used to indicate the depth of a URL.\n>>>\nwebdir('http://reed.cs.depaul.edu/lperkovic/csc242/test1.html'\n, 2, 0)\nhttp://reed.cs.depaul.edu/lperkovic/csc242/test1.html\n http://reed.cs.depaul.edu/lperkovic/csc242/test2.html\n http://reed.cs.depaul.edu/lperkovic/csc242/test4.html\n http://reed.cs.depaul.edu/lperkovic/csc242/test3.html\n http://reed.cs.depaul.edu/lperkovic/csc242/test4.html",
      "metadata": {}
    },
    {
      "cell_type": "code",
      "source": "import requests\nfrom bs4 import BeautifulSoup",
      "metadata": {},
      "execution_count": null,
      "outputs": []
    },
    {
      "cell_type": "code",
      "source": "def webdir(url, depth, indent=0):\n    if depth < 0: # condition chefcking of positive depth number \n        return\n\n    try: # might get exception so try block \n        response = requests.get(url) #get URL\n        response.raise_for_status() #checks the HTTP status code of the response. \n        soup = BeautifulSoup(response.text, 'html.parser') #object created\n\n        print(\" \" * indent + url) #print URL with Indentation\n\n        if depth > 0: #for positive depth\n            links = soup.find_all('a') # Find and store all Anchor Tags into links\n            for link in links:\n                href = link.get('href') #retrive href value\n                if href and href.startswith('http'): #condition checking for http \n                    webdir(href, depth - 1, indent + 2) #if the URL is external then reduce the depth and increase indentation\n\n    except Exception as e:\n        print(\" \" * indent + f\"Error accessing {url}: {e}\") #exception message\n\nwebdir('http://reed.cs.depaul.edu/lperkovic/csc242/test1.html', 2, 0) #Function calling",
      "metadata": {
        "trusted": true
      },
      "execution_count": 17,
      "outputs": [
        {
          "name": "stdout",
          "text": "Error accessing http://reed.cs.depaul.edu/lperkovic/csc242/test1.html: name 'requests' is not defined\n",
          "output_type": "stream"
        }
      ]
    },
    {
      "cell_type": "markdown",
      "source": "Question 8:\nWrite SQL queries on the below database table that return:\na) All the temperature data.\nb) All the cities, but without repetition.\nc) All the records for India.\nd) All the Fall records.\ne) The city, country, and season for which the average rainfall is between 200\nand 400 millimeters.\nf) The city and country for which the average Fall temperature is above 20\ndegrees, in increasing temperature order.\ng) The total annual rainfall for Cairo.\nh) The total rainfall for each season.",
      "metadata": {}
    },
    {
      "cell_type": "code",
      "source": "%load_ext sql #load SQL module\n%sql sqlite:// ",
      "metadata": {},
      "execution_count": null,
      "outputs": []
    },
    {
      "cell_type": "code",
      "source": "%%sql \nCREATE TABLE IF NOT EXISTS weather (\n    City TEXT,\n    Country TEXT,\n    Season TEXT,\n    Temperature REAL,\n    Rainfall REAL\n);\n#create the table for the specific schema",
      "metadata": {
        "trusted": true
      },
      "execution_count": 32,
      "outputs": [
        {
          "name": "stderr",
          "text": "UsageError: Cell magic `%%sql` not found.\n",
          "output_type": "stream"
        }
      ]
    },
    {
      "cell_type": "code",
      "source": "%%sql\nINSERT INTO weather (City, Country, Season, Temperature, Rainfall)\nVALUES\n    ('Mumbai', 'India', 'Winter', 24.8, 5.9),\n    ('Mumbai', 'India', 'Spring', 28.4, 16.2),\n    ('Mumbai', 'India', 'Summer', 27.9, 1549.4),\n    ('Mumbai', 'India', 'Fall', 27.6, 346.0),\n    ('London', 'United Kingdom', 'Winter', 4.2, 207.7),\n    ('London', 'United Kingdom', 'Spring', 8.3, 169.6),\n    ('London', 'United Kingdom', 'Summer', 15.7, 157.0),\n    ('London', 'United Kingdom', 'Fall', 10.4, 218.5),\n    ('Cairo', 'Egypt', 'Winter', 13.6, 16.5),\n    ('Cairo', 'Egypt', 'Spring', 20.7, 6.5),\n    ('Cairo', 'Egypt', 'Summer', 27.7, 0.1),\n    ('Cairo', 'Egypt', 'Fall', 22.2, 4.5); #insert the data into table",
      "metadata": {
        "trusted": true
      },
      "execution_count": 26,
      "outputs": [
        {
          "ename": "<class 'SyntaxError'>",
          "evalue": "invalid syntax (<ipython-input-31-20cdbd029525>, line 2)",
          "traceback": [
            "\u001b[0;36m  Cell \u001b[0;32mIn[31], line 2\u001b[0;36m\u001b[0m\n\u001b[0;31m    INSERT INTO weather (City, Country, Season, Temperature, Rainfall)\u001b[0m\n\u001b[0m           ^\u001b[0m\n\u001b[0;31mSyntaxError\u001b[0m\u001b[0;31m:\u001b[0m invalid syntax\n"
          ],
          "output_type": "error"
        }
      ]
    },
    {
      "cell_type": "code",
      "source": "# a) All the temperature data.\nprint(\"Temperature Data Information\")\nTemp = %sql SELECT Temperature FROM weather\nprint(Temp) #select Temperture column\n\n# b) All the cities, but without repetition.\nprint(\"Information of All the Cities without repetition\")\nCity = %sql SELECT DISTINCT City FROM weather\nprint(City) #get the unique city from table \n\n# c) All the records for India.\nprint(\"Information of India\")\nIndia_Info = %sql SELECT * FROM weather WHERE Country = 'India'\nprint(India_Info) # filter using coutry ='India' to get all record \n\n# d) All the Fall records\nprint(\"Information of Fall\")\nFall_Season_Info = %sql SELECT * FROM weather WHERE Season = 'Fall'\nprint(Fall_Season_Info) # only fall data using the where condition\n\n# e) The city, country, and season for which the average rainfall is between 200 and 400 millimeters.\nprint(\"The city, country, and season for which the average rainfall is between 200 and 400 millimeters\")\nAvg_RainFall = %sql SELECT City, Country, Season FROM weather GROUP BY City, Country, Season HAVING AVG(Rainfall) BETWEEN 200 AND 400\nprint(Avg_RainFall) \n\n# f) The city and country for which the average Fall temperature is above 20 degrees, in increasing temperature order.\nprint(\" The city and country for which the average Fall temperature is above 20 degrees, in increasing temperature order\")\nAvg_Temprature = %sql SELECT City, Country, Season FROM weather GROUP BY City, Country, Season HAVING AVG(Rainfall) BETWEEN 200 AND 400\nprint(Avg_Temprature)\n\n# g) The total annual rainfall for Cairo.\nprint(\"The total annual rainfall for Cairo\")\nAnnual_Rainfall = %sql SELECT City, SUM(Rainfall) AS Total_Annual_Rainfall FROM weather WHERE City = 'Cairo' GROUP BY City\nprint(Annual_Rainfall)\n\n# h) The total rainfall for each season.\nprint(\"The total rainfall for each season\")\nTotal_Rainfall = %sql SELECT Season, SUM(Rainfall) AS Total_Rainfall FROM weather GROUP BY Season\nprint(Total_Rainfall)",
      "metadata": {
        "trusted": true
      },
      "execution_count": 27,
      "outputs": [
        {
          "name": "stdout",
          "text": "Temperature Data Information\n",
          "output_type": "stream"
        },
        {
          "name": "stderr",
          "text": "UsageError: Line magic function `%sql` not found.\n",
          "output_type": "stream"
        }
      ]
    },
    {
      "cell_type": "markdown",
      "source": "Question 9:\n. Suppose list words is defined as follows:\n>>> words = ['The', 'quick', 'brown', 'fox', 'jumps', 'over',\n'the', 'lazy', 'dog']\nWrite list comprehension expressions that use list words and generate the following\nlists:\na) ['THE', 'QUICK', 'BROWN', 'FOX', 'JUMPS', 'OVER', 'THE',\n'LAZY', 'DOG']\nb) ['the', 'quick', 'brown', 'fox', 'jumps', 'over', 'the',\n'lazy', 'dog']\nc) [3, 5, 5, 3, 5, 4, 3, 4, 3] (the list of lengths of words in list\nwords).\nd) [['THE', 'the', 3], ['QUICK', 'quick', 5], ['BROWN',\n'brown', 5], ['FOX', 'fox', 3], ['JUMPS', 'jumps', 5],\n['OVER', 'over', 4], ['THE', 'the', 3], ['LAZY', 'lazy',\n4], ['DOG', 'dog', 3]] (the list containing a list for every word of list\nwords, where each list contains the word in uppercase and lowercase and the\nlength of the word.)\ne) ['The', 'quick', 'brown', 'fox', 'jumps', 'over', 'the',\n'lazy', 'dog'] (the list of words in list words containing 4 or more\ncharacters.)",
      "metadata": {}
    },
    {
      "cell_type": "code",
      "source": "words = ['The', 'quick', 'brown', 'fox', 'jumps', 'over', 'the', 'lazy', 'dog']\n\n#Uppercase\nUC_Words = [word.upper() for word in words]\n\n#Lowercase\nLC_Words = [word.lower() for word in words]\n\n#Count of words\nLength_of_Words = [len(word) for word in words]\n\n#Information with Uppercase, Lowercase and Word Count\nWord_Info = [[word.upper(), word.lower(), len(word)] for word in words]\n#Words with 4 or more characters\nMore_Ch_Words = [word for word in words if len(word) >= 4]\n\nprint(UC_Words)\nprint()\nprint(LC_Words)\nprint()\nprint(Length_of_Words)\nprint()\nprint(Word_Info)\nprint()\nprint(More_Ch_Words)",
      "metadata": {
        "trusted": true
      },
      "execution_count": 29,
      "outputs": [
        {
          "name": "stdout",
          "text": "['THE', 'QUICK', 'BROWN', 'FOX', 'JUMPS', 'OVER', 'THE', 'LAZY', 'DOG']\n\n['the', 'quick', 'brown', 'fox', 'jumps', 'over', 'the', 'lazy', 'dog']\n\n[3, 5, 5, 3, 5, 4, 3, 4, 3]\n\n[['THE', 'the', 3], ['QUICK', 'quick', 5], ['BROWN', 'brown', 5], ['FOX', 'fox', 3], ['JUMPS', 'jumps', 5], ['OVER', 'over', 4], ['THE', 'the', 3], ['LAZY', 'lazy', 4], ['DOG', 'dog', 3]]\n\n['quick', 'brown', 'jumps', 'over', 'lazy']\n",
          "output_type": "stream"
        }
      ]
    }
  ]
}